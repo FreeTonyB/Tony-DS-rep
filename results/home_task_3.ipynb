{
 "cells": [
  {
   "cell_type": "code",
   "execution_count": 27,
   "metadata": {
    "collapsed": true,
    "ExecuteTime": {
     "end_time": "2023-06-04T12:17:41.753542Z",
     "start_time": "2023-06-04T12:17:41.747082Z"
    }
   },
   "outputs": [
    {
     "name": "stdout",
     "output_type": "stream",
     "text": [
      "5\n"
     ]
    },
    {
     "data": {
      "text/plain": "[-3, 0, 1, 2, 4]"
     },
     "execution_count": 27,
     "metadata": {},
     "output_type": "execute_result"
    }
   ],
   "source": [
    "some_array = [4,1,2,0,-3]\n",
    "print(len(some_array))\n",
    "def array_sort(array):\n",
    "    swapped = False\n",
    "    for i in range(len(array)-1,0,-1):\n",
    "        for j in range(i):\n",
    "            if array[j] > array[j+1]:\n",
    "                array[j],array[j+1] = array[j+1], array[j]\n",
    "                swapped = True\n",
    "        if swapped:\n",
    "            swapped = False\n",
    "        else:\n",
    "           break\n",
    "    return array\n",
    "\n",
    "array_sort(some_array)\n"
   ]
  },
  {
   "cell_type": "code",
   "execution_count": 22,
   "outputs": [],
   "source": [],
   "metadata": {
    "collapsed": false,
    "ExecuteTime": {
     "end_time": "2023-06-04T12:15:45.478642Z",
     "start_time": "2023-06-04T12:15:45.475353Z"
    }
   }
  }
 ],
 "metadata": {
  "kernelspec": {
   "display_name": "Python 3",
   "language": "python",
   "name": "python3"
  },
  "language_info": {
   "codemirror_mode": {
    "name": "ipython",
    "version": 2
   },
   "file_extension": ".py",
   "mimetype": "text/x-python",
   "name": "python",
   "nbconvert_exporter": "python",
   "pygments_lexer": "ipython2",
   "version": "2.7.6"
  }
 },
 "nbformat": 4,
 "nbformat_minor": 0
}
